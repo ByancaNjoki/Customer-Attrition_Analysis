{
 "cells": [
  {
   "cell_type": "markdown",
   "metadata": {},
   "source": [
    "<div style=\"text-align: left; color: Purple;\">\n",
    "<h1>CUSTOMER CHURN ANALYSIS</h1>\n",
    "</div>"
   ]
  },
  {
   "cell_type": "markdown",
   "metadata": {},
   "source": [
    "## Business Understanding"
   ]
  },
  {
   "cell_type": "markdown",
   "metadata": {},
   "source": [
    "### Problem Statement: \n",
    "##### Abipaay company is facing customer churn which could adversely affect revenue and lead to decreased profitability.  Identifying and addressing the underlying factors driving this attrition is required to sustain business growth. "
   ]
  },
  {
   "cell_type": "markdown",
   "metadata": {},
   "source": [
    "### Objective:\n",
    "##### This project aims to analyze customer attrition within Abipaay, leveraging data-driven insights to identify key indicators and develop effective retention strategies. By exploring patterns in customer behavior and demographic data, the project seeks to:\n",
    "\n",
    "##### - Determine factors contributing to customer churn.\n",
    "##### - Build predictive models to forecast customer attrition.\n",
    "##### - Recommend actionable strategies to reduce churn and enhance customer retention."
   ]
  },
  {
   "cell_type": "markdown",
   "metadata": {},
   "source": [
    "### Hypothesis:\n",
    "##### Null Hypothesis (H0): The number of additional services a customer subscribes to has no effect on customer churn rates.\n",
    "##### Alternate Hypothesis (H1): Customers who subscribe to more additional services are less likely to churn compared to those who subscribe to fewer or none.\n"
   ]
  },
  {
   "cell_type": "markdown",
   "metadata": {},
   "source": [
    "### Analytical Questions\n",
    "\n",
    "##### 1. What are the significant demographic factors influencing customer churn?\n",
    "   - Identify which demographic variables (e.g., age, gender) correlate most strongly with customer churn rates.\n",
    "##### 2. How does the type of contract impact customer churn rates?  \n",
    "   - Determine the effect of contract duration (Month-to-Month, One year, Two year) on customer churn likelihood.\n",
    "##### 3. What is the relationship between service usage patterns and customer churn likelihood?  \n",
    "   - Analyze how usage of specific services (e.g., OnlineSecurity, TechSupport) influences the probability of customer churn.\n",
    "##### 4. How do financial factors (MonthlyCharges and TotalCharges) affect customer churn?  \n",
    "   - Assess the impact of financial variables (MonthlyCharges, TotalCharges) on customer retention and churn behavior.\n",
    "\n",
    "\n",
    "\n",
    "\n",
    "\n"
   ]
  },
  {
   "cell_type": "markdown",
   "metadata": {},
   "source": [
    "## Data Understanding"
   ]
  },
  {
   "cell_type": "markdown",
   "metadata": {},
   "source": [
    "#### Data Collection:\n",
    "##### In this project, the training datasets were obtained from two distinct sources. The initial 3000 records were accessed from a Microsoft SQL Server database via pyodbc and the second dataset,was obtained from a GitHub repository and stored locally in the project's data folder. The third dataset, intended for testing purposes, is sourced from a OneDrive location. These datasets are loaded and merged into Jupyter notebooks for exploration and preprocessing before model development."
   ]
  }
 ],
 "metadata": {
  "kernelspec": {
   "display_name": "venv",
   "language": "python",
   "name": "python3"
  },
  "language_info": {
   "codemirror_mode": {
    "name": "ipython",
    "version": 3
   },
   "file_extension": ".py",
   "mimetype": "text/x-python",
   "name": "python",
   "nbconvert_exporter": "python",
   "pygments_lexer": "ipython3",
   "version": "3.12.2"
  }
 },
 "nbformat": 4,
 "nbformat_minor": 2
}
